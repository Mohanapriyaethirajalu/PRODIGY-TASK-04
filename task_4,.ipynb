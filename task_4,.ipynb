{
 "cells": [
  {
   "cell_type": "code",
   "execution_count": 6,
   "id": "1cd1da37-7344-405e-b1ed-745b149720ce",
   "metadata": {},
   "outputs": [],
   "source": [
    "import os\n",
    "import zipfile\n",
    "import tensorflow as tf\n",
    "from tensorflow.keras.preprocessing.image import ImageDataGenerator\n",
    "from tensorflow.keras import layers, models"
   ]
  },
  {
   "cell_type": "code",
   "execution_count": 7,
   "id": "416039d7-6500-4a4e-b05c-78f63811329c",
   "metadata": {},
   "outputs": [],
   "source": [
    "with zipfile.ZipFile(\"leapGestRecog.zip\", 'r') as zip_ref:\n",
    "    zip_ref.extractall(\"hand_gestures_dataset\")"
   ]
  },
  {
   "cell_type": "code",
   "execution_count": 8,
   "id": "4f427f33-ecc5-4f4d-8ee7-f761874992d9",
   "metadata": {},
   "outputs": [],
   "source": [
    "ds= 'hand_gestures_dataset'"
   ]
  },
  {
   "cell_type": "code",
   "execution_count": 9,
   "id": "feac6fc8-dde1-4966-8383-8bd182e4647e",
   "metadata": {},
   "outputs": [],
   "source": [
    "dg = ImageDataGenerator(\n",
    "    rescale=1./255,\n",
    "    shear_range=0.2,\n",
    "    zoom_range=0.2,\n",
    "    horizontal_flip=True\n",
    ")"
   ]
  },
  {
   "cell_type": "code",
   "execution_count": 10,
   "id": "8f0f789d-1182-4505-874e-8f11fa2d84e9",
   "metadata": {},
   "outputs": [
    {
     "name": "stdout",
     "output_type": "stream",
     "text": [
      "Found 40000 images belonging to 1 classes.\n",
      "Found 40000 images belonging to 1 classes.\n"
     ]
    }
   ],
   "source": [
    "image_size = (128, 128)\n",
    "batch_size = 32\n",
    "\n",
    "image_size = (128, 128)\n",
    "batch_size = 32\n",
    "\n",
    "train_generator = dg.flow_from_directory(\n",
    "    os.path.join(ds),\n",
    "    target_size=image_size,\n",
    "    batch_size=batch_size,\n",
    "    class_mode='categorical'\n",
    ")\n",
    "\n",
    "test_generator = dg.flow_from_directory(\n",
    "    os.path.join(ds),\n",
    "    target_size=image_size,\n",
    "    batch_size=batch_size,\n",
    "    class_mode='categorical'\n",
    ")"
   ]
  },
  {
   "cell_type": "code",
   "execution_count": 11,
   "id": "a20483fc-e162-4832-ad8b-dad7fc6ea295",
   "metadata": {},
   "outputs": [],
   "source": [
    "model = models.Sequential()\n",
    "model.add(layers.Conv2D(32, (3, 3), activation='relu', input_shape=(128, 128, 3)))\n",
    "model.add(layers.MaxPooling2D((2, 2)))\n",
    "model.add(layers.Conv2D(64, (3, 3), activation='relu'))\n",
    "model.add(layers.MaxPooling2D((2, 2)))\n",
    "model.add(layers.Conv2D(128, (3, 3), activation='relu'))\n",
    "model.add(layers.MaxPooling2D((2, 2)))\n",
    "model.add(layers.Flatten())\n",
    "model.add(layers.Dense(128, activation='relu'))"
   ]
  },
  {
   "cell_type": "code",
   "execution_count": 12,
   "id": "da1dde00-2a7b-4e07-8d10-48f5467c4450",
   "metadata": {},
   "outputs": [],
   "source": [
    "model.compile(optimizer='adam',\n",
    "              loss='categorical_crossentropy',\n",
    "              metrics=['accuracy'])"
   ]
  },
  {
   "cell_type": "code",
   "execution_count": 13,
   "id": "20df5f08-ef6b-47ba-931d-5dc477da73ef",
   "metadata": {},
   "outputs": [
    {
     "name": "stdout",
     "output_type": "stream",
     "text": [
      "Epoch 1/5\n",
      "1000/1000 [==============================] - 1497s 1s/step - loss: 737.6347 - accuracy: 0.0018 - val_loss: 734.4830 - val_accuracy: 6.7500e-04\n",
      "Epoch 2/5\n",
      "1000/1000 [==============================] - 1150s 1s/step - loss: 734.4788 - accuracy: 0.0082 - val_loss: 734.4830 - val_accuracy: 0.0084\n",
      "Epoch 3/5\n",
      "1000/1000 [==============================] - 1102s 1s/step - loss: 734.4788 - accuracy: 0.0078 - val_loss: 734.4830 - val_accuracy: 0.0073\n",
      "Epoch 4/5\n",
      "1000/1000 [==============================] - 1146s 1s/step - loss: 734.4788 - accuracy: 0.0059 - val_loss: 734.4830 - val_accuracy: 0.0000e+00\n",
      "Epoch 5/5\n",
      "1000/1000 [==============================] - 943s 943ms/step - loss: 734.4788 - accuracy: 0.0048 - val_loss: 734.4830 - val_accuracy: 1.0000e-04\n"
     ]
    },
    {
     "data": {
      "text/plain": [
       "<keras.callbacks.History at 0x1ed877195e0>"
      ]
     },
     "execution_count": 13,
     "metadata": {},
     "output_type": "execute_result"
    }
   ],
   "source": [
    "model.fit(train_generator, epochs=5, validation_data=test_generator, steps_per_epoch=1000)"
   ]
  },
  {
   "cell_type": "code",
   "execution_count": 14,
   "id": "7dc80de6-1c74-45d7-8b40-acd9691b96f1",
   "metadata": {},
   "outputs": [
    {
     "name": "stdout",
     "output_type": "stream",
     "text": [
      "1250/1250 [==============================] - 461s 368ms/step\n",
      "Confusion Matrix:\n",
      "[[  6 114 495 ...  12   7   4]\n",
      " [  0   0   0 ...   0   0   0]\n",
      " [  0   0   0 ...   0   0   0]\n",
      " ...\n",
      " [  0   0   0 ...   0   0   0]\n",
      " [  0   0   0 ...   0   0   0]\n",
      " [  0   0   0 ...   0   0   0]]\n",
      "\n",
      "Classification Report:\n",
      "              precision    recall  f1-score   support\n",
      "\n",
      "           0       1.00      0.00      0.00     40000\n",
      "\n",
      "   micro avg       1.00      0.00      0.00     40000\n",
      "   macro avg       1.00      0.00      0.00     40000\n",
      "weighted avg       1.00      0.00      0.00     40000\n",
      "\n"
     ]
    }
   ],
   "source": [
    "from sklearn.metrics import confusion_matrix, classification_report\n",
    "import numpy as np\n",
    "\n",
    "# Generate predictions\n",
    "Y_pred = model.predict(test_generator)\n",
    "y_pred = np.argmax(Y_pred, axis=1)  # Assuming the model output is one-hot encoded\n",
    "\n",
    "# Get true labels\n",
    "y_true = test_generator.classes\n",
    "\n",
    "# Print confusion matrix and classification report\n",
    "conf_matrix = confusion_matrix(y_true, y_pred)\n",
    "print(\"Confusion Matrix:\")\n",
    "print(conf_matrix)\n",
    "\n",
    "class_report = classification_report(y_true, y_pred, labels=np.unique(y_true))\n",
    "print(\"\\nClassification Report:\")\n",
    "print(class_report)"
   ]
  },
  {
   "cell_type": "code",
   "execution_count": null,
   "id": "34c960f7-ed4e-485e-b774-268ec3a035ae",
   "metadata": {},
   "outputs": [],
   "source": []
  }
 ],
 "metadata": {
  "kernelspec": {
   "display_name": "Python 3 (ipykernel)",
   "language": "python",
   "name": "python3"
  },
  "language_info": {
   "codemirror_mode": {
    "name": "ipython",
    "version": 3
   },
   "file_extension": ".py",
   "mimetype": "text/x-python",
   "name": "python",
   "nbconvert_exporter": "python",
   "pygments_lexer": "ipython3",
   "version": "3.9.18"
  }
 },
 "nbformat": 4,
 "nbformat_minor": 5
}
